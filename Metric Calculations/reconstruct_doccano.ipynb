{
 "cells": [
  {
   "cell_type": "markdown",
   "metadata": {},
   "source": [
    "Import libraries"
   ]
  },
  {
   "cell_type": "code",
   "execution_count": null,
   "metadata": {},
   "outputs": [],
   "source": [
    "import jsonlines\n",
    "import json\n",
    "import glob as glob\n",
    "import pandas as pd\n",
    "from collections import Counter\n",
    "import numpy as np\n",
    "import difflib\n",
    "import os\n",
    "import csv\n",
    "import matplotlib.pyplot as plt\n",
    "import re\n",
    "from difflib import SequenceMatcher"
   ]
  },
  {
   "cell_type": "markdown",
   "metadata": {},
   "source": [
    "Functions"
   ]
  },
  {
   "cell_type": "code",
   "execution_count": null,
   "metadata": {},
   "outputs": [],
   "source": [
    "#Doccano output is in jsonl_files. Load jsonl file into a pandas dataframe\n",
    "#Syntax is chosen_name = loadjsonl_to_df(jsonl_file)\n",
    "\n",
    "def loadjsonl_to_df(jsonl_file):\n",
    "    jsonl_data = []\n",
    "    with open(jsonl_file, 'r') as file:\n",
    "        for line in file:\n",
    "            jsonl_data.append(json.loads(line))\n",
    "            \n",
    "        df = pd.DataFrame(jsonl_data)\n",
    "        return df"
   ]
  },
  {
   "cell_type": "code",
   "execution_count": null,
   "metadata": {},
   "outputs": [],
   "source": [
    "#Process reports to remove extra spaces/new lines (necessary for histopathology) \n",
    "\n",
    "def preprocess_text(text):\n",
    "    #remove newline characters (\\n) and paragraph markers (\\n\\n or /)\n",
    "    text = re.sub(r'\\n', ' ', text) #remove newline characters and replace with a single space, with the exception of dates\n",
    "    return text \n",
    "\n",
    "def apply_preprocessing(row):\n",
    "    return preprocess_text(row['text'])"
   ]
  },
  {
   "cell_type": "code",
   "execution_count": null,
   "metadata": {},
   "outputs": [],
   "source": [
    "#Redact text using doccano output\n",
    "#doccano output is lists of sublists [element 1, element 2, element 3]:\n",
    "#Element 1: start token\n",
    "#Element 2: end token\n",
    "#Element 3: category of PHI\n",
    "\n",
    "#Assumes df has a column 'text' which is the original text; 'manual_output' which is doccano\n",
    "\n",
    "def redact_text(row):\n",
    "    text = preprocess_text(row['text']) #extract text from each row, using the processed text\n",
    "    manual_output = row['manual_output'] #extract manual_output for each row\n",
    "    redacted_text = text #initialise redacted text \n",
    "    offset = 0 #initialise offset to keep track fo cumulative position changes from preprocessing \n",
    "\n",
    "    #iterate over each sublist in manual_output (where manual_output is the column in the df with lists of redacted information)\n",
    "    for annotation in manual_output:\n",
    "        start_token, end_token, string = annotation #extract the start, end tokens and string for each sublist\n",
    "        if string != 'time': #we have decided to remove 'time' as PHI\n",
    "            update_start = start_token + offset\n",
    "            update_end = end_token + offset\n",
    "            redacted_text = redacted_text[:update_start] + '[' + string + ']' + redacted_text[update_end:] #replaced the text from start-end token with string and square brackets\n",
    "            len_diff = len(string) - (end_token - start_token)\n",
    "            offset += len_diff + 2 #calculate and add offset, and add +2 to account for the addition of the square brackets\n",
    "\n",
    "    redacted_text = re.sub(r'(?<=\\s)\\d{4}(?=\\s|$|[.,!?();:])', '[date]', redacted_text) #replace 4-digit numbers preceded by a space with '[date]'\n",
    "\n",
    "    return redacted_text"
   ]
  },
  {
   "cell_type": "code",
   "execution_count": null,
   "metadata": {},
   "outputs": [],
   "source": [
    "#extract lists of redacted words\n",
    "#other way round; make a list of all redacted words\n",
    "\n",
    "def extract_redacted_words(row, column):\n",
    "    text_words = row['reference1'].split()\n",
    "    column_words = row[column].split()\n",
    "    redacted_words = [word for word in text_words if word not in column_words]\n",
    "    return redacted_words"
   ]
  }
 ],
 "metadata": {
  "language_info": {
   "name": "python"
  }
 },
 "nbformat": 4,
 "nbformat_minor": 2
}
